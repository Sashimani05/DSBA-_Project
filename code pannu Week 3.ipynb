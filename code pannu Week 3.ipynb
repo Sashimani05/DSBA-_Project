{
 "cells": [
  {
   "cell_type": "code",
   "execution_count": 1,
   "metadata": {},
   "outputs": [
    {
     "name": "stdout",
     "output_type": "stream",
     "text": [
      "There are \"double quotes\" in this string.\n"
     ]
    }
   ],
   "source": [
    "print('There are \"double quotes\" in this string.')\n"
   ]
  },
  {
   "cell_type": "code",
   "execution_count": 2,
   "metadata": {},
   "outputs": [
    {
     "name": "stdout",
     "output_type": "stream",
     "text": [
      "This string's got an apostrophe.\n"
     ]
    }
   ],
   "source": [
    "print(\"This string's got an apostrophe.\")"
   ]
  },
  {
   "cell_type": "code",
   "execution_count": 6,
   "metadata": {},
   "outputs": [
    {
     "name": "stdout",
     "output_type": "stream",
     "text": [
      "This string was written on multiple lines,\n",
      "      and it displays across multiple lines\n"
     ]
    }
   ],
   "source": [
    "print(\n",
    "    \"\"\"This string was written on multiple lines,\n",
    "      and it displays across multiple lines\"\"\"\n",
    ")"
   ]
  },
  {
   "cell_type": "code",
   "execution_count": 12,
   "metadata": {},
   "outputs": [
    {
     "name": "stdout",
     "output_type": "stream",
     "text": [
      "This one-line string was written out       using multiple lines\n"
     ]
    }
   ],
   "source": [
    "print(\n",
    "    \"This one-line string was written out \\\n",
    "      using multiple lines\"\n",
    ")"
   ]
  },
  {
   "cell_type": "code",
   "execution_count": 14,
   "metadata": {},
   "outputs": [
    {
     "name": "stdout",
     "output_type": "stream",
     "text": [
      "28\n"
     ]
    }
   ],
   "source": [
    "my_word = \"antidisestablishmentarianism\"\n",
    "print(len(my_word))"
   ]
  },
  {
   "cell_type": "code",
   "execution_count": 16,
   "metadata": {},
   "outputs": [
    {
     "name": "stdout",
     "output_type": "stream",
     "text": [
      "batman\n"
     ]
    }
   ],
   "source": [
    "# Concatenate two strings together\n",
    "string_left = \"bat\"\n",
    "string_right = \"man\"\n",
    "print(string_left + string_right)"
   ]
  },
  {
   "cell_type": "code",
   "execution_count": 17,
   "metadata": {},
   "outputs": [
    {
     "name": "stdout",
     "output_type": "stream",
     "text": [
      "heebie jeebies\n"
     ]
    }
   ],
   "source": [
    "string_one = \"heebie\"\n",
    "string_two = \"jeebies\"\n",
    "print(string_one + \" \" + string_two)"
   ]
  },
  {
   "cell_type": "code",
   "execution_count": 20,
   "metadata": {},
   "outputs": [
    {
     "name": "stdout",
     "output_type": "stream",
     "text": [
      "zing\n"
     ]
    }
   ],
   "source": [
    "#Use subscripting to display part of a string\n",
    "print(\"bazinga\"[2:6])"
   ]
  },
  {
   "cell_type": "code",
   "execution_count": 21,
   "metadata": {},
   "outputs": [],
   "source": [
    "# Store an integer as a string\n",
    "my_integer_string = \"6\""
   ]
  },
  {
   "cell_type": "code",
   "execution_count": 23,
   "metadata": {},
   "outputs": [
    {
     "name": "stdout",
     "output_type": "stream",
     "text": [
      "<class 'str'>\n"
     ]
    }
   ],
   "source": [
    "print(type(my_integer_string ))"
   ]
  },
  {
   "cell_type": "code",
   "execution_count": 24,
   "metadata": {},
   "outputs": [],
   "source": [
    "my_float_string = \"6.01\""
   ]
  },
  {
   "cell_type": "code",
   "execution_count": 26,
   "metadata": {},
   "outputs": [
    {
     "name": "stdout",
     "output_type": "stream",
     "text": [
      "<class 'str'>\n"
     ]
    }
   ],
   "source": [
    "print(type(my_float_string ))"
   ]
  },
  {
   "cell_type": "code",
   "execution_count": 27,
   "metadata": {},
   "outputs": [
    {
     "name": "stdout",
     "output_type": "stream",
     "text": [
      "mp3\n"
     ]
    }
   ],
   "source": [
    "# Create a string and an int object, then display them together\n",
    "my_string = \"mp\"\n",
    "my_int = 3\n",
    "print(my_string + str(my_int))"
   ]
  },
  {
   "cell_type": "code",
   "execution_count": 30,
   "metadata": {},
   "outputs": [
    {
     "name": "stdout",
     "output_type": "stream",
     "text": [
      "Enter a number: 5\n",
      "Enter another number: 6\n",
      "The First number is 5 and 6 is  second number.\n",
      "The product of 5 and 6 is 30.0.\n"
     ]
    }
   ],
   "source": [
    "a = input(\"Enter a number: \")\n",
    "b = input(\"Enter another number: \")\n",
    "product = float(a) * float(b)\n",
    "print(\"The First number is \" + a + \" and \" + b + \" is  second number.\")\n",
    "print(\"The product of \" + a + \" and \" + b + \" is \" + str(product) + \".\")"
   ]
  },
  {
   "cell_type": "code",
   "execution_count": 33,
   "metadata": {},
   "outputs": [
    {
     "name": "stdout",
     "output_type": "stream",
     "text": [
      "0.2 kg is the weight of the newt.\n"
     ]
    }
   ],
   "source": [
    "# Concatenate a number and a string in one print statement\n",
    "weight = 0.2\n",
    "animal = \"newt\"\n",
    "print(str(weight) + \" kg is the weight of the \" + animal + \".\")"
   ]
  },
  {
   "cell_type": "code",
   "execution_count": 34,
   "metadata": {},
   "outputs": [
    {
     "name": "stdout",
     "output_type": "stream",
     "text": [
      "0.2 kg is the weight of the newt.\n"
     ]
    }
   ],
   "source": [
    "# Use format() to print a number and a string inside of another string\n",
    "print(\"{} kg is the weight of the {}.\".format(weight, animal))"
   ]
  },
  {
   "cell_type": "code",
   "execution_count": 35,
   "metadata": {},
   "outputs": [
    {
     "name": "stdout",
     "output_type": "stream",
     "text": [
      "0.2 kg is the weight of the newt.\n"
     ]
    }
   ],
   "source": [
    "# Use formatted string literal (f-string) to reference objects inside a string\n",
    "print(f\"{weight} kg is the weight of the {animal}.\")"
   ]
  }
 ],
 "metadata": {
  "kernelspec": {
   "display_name": "Python 3",
   "language": "python",
   "name": "python3"
  },
  "language_info": {
   "codemirror_mode": {
    "name": "ipython",
    "version": 3
   },
   "file_extension": ".py",
   "mimetype": "text/x-python",
   "name": "python",
   "nbconvert_exporter": "python",
   "pygments_lexer": "ipython3",
   "version": "3.8.3"
  },
  "toc": {
   "base_numbering": 1,
   "nav_menu": {},
   "number_sections": true,
   "sideBar": true,
   "skip_h1_title": false,
   "title_cell": "Table of Contents",
   "title_sidebar": "Contents",
   "toc_cell": false,
   "toc_position": {},
   "toc_section_display": true,
   "toc_window_display": false
  }
 },
 "nbformat": 4,
 "nbformat_minor": 4
}
